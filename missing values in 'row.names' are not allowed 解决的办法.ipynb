{
 "cells": [
  {
   "cell_type": "markdown",
   "metadata": {},
   "source": [
    "报错的代码如下：\n",
    "```\n",
    " for (set in 1:nSets){\n",
    "+   setSamples = rownames(multiExpr[[set]]$data);\n",
    "+   traitRows = match(setSamples, allTraits$Mice);\n",
    "+   Traits[[set]] = list(data = allTraits[traitRows, -1]);\n",
    "+   rownames(Traits[[set]]$data) = allTraits[traitRows, 1];\n",
    "+ }\n",
    "```\n",
    "然后就出现下面报错的代码"
   ]
  },
  {
   "cell_type": "raw",
   "metadata": {},
   "source": [
    "Error in `.rowNamesDF<-`(x, value = value) : \n",
    "  missing values in 'row.names' are not allowed"
   ]
  },
  {
   "cell_type": "markdown",
   "metadata": {},
   "source": [
    "**解决方法：**\n",
    "\n",
    "对于循环的代码，首先就是要把代码附上循环值，先一个个地run，找到报错的代码位置\n",
    "\n",
    "这里报错的代码是："
   ]
  },
  {
   "cell_type": "raw",
   "metadata": {},
   "source": [
    "rownames(Traits[[set]]$data) = allTraits[traitRows, 1]"
   ]
  },
  {
   "cell_type": "markdown",
   "metadata": {},
   "source": [
    "**问题是在allTraits[traitRows, 1]有缺失值，所以出现报错**"
   ]
  },
  {
   "cell_type": "raw",
   "metadata": {},
   "source": [
    "table(is.na(allTraits[traitRows, 1])) #告诉你有几个缺失值\n",
    "\n",
    "which(allTraits[traitRows, 1] %in% NA) #告诉你缺失值的位置在哪"
   ]
  },
  {
   "cell_type": "code",
   "execution_count": null,
   "metadata": {},
   "outputs": [],
   "source": [
    "找到缺失值后，可以选择删除所在的行或者重新给名字，问题即可解决。"
   ]
  },
  {
   "cell_type": "code",
   "execution_count": null,
   "metadata": {},
   "outputs": [],
   "source": [
    "使用na.omit()删除不完整的观测 这个会删除是NA所在行的所有值\n"
   ]
  }
 ],
 "metadata": {
  "kernelspec": {
   "display_name": "R",
   "language": "R",
   "name": "ir"
  },
  "language_info": {
   "codemirror_mode": "r",
   "file_extension": ".r",
   "mimetype": "text/x-r-source",
   "name": "R",
   "pygments_lexer": "r",
   "version": "3.5.1"
  }
 },
 "nbformat": 4,
 "nbformat_minor": 2
}
