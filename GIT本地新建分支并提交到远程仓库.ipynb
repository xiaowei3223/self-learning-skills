{
 "cells": [
  {
   "cell_type": "markdown",
   "metadata": {},
   "source": [
    " 1. 本地初始化，建立仓库"
   ]
  },
  {
   "cell_type": "raw",
   "metadata": {},
   "source": [
    "git init"
   ]
  },
  {
   "cell_type": "markdown",
   "metadata": {},
   "source": [
    " 2.代码提交到本地仓库"
   ]
  },
  {
   "cell_type": "raw",
   "metadata": {},
   "source": [
    "git add ."
   ]
  },
  {
   "cell_type": "markdown",
   "metadata": {},
   "source": [
    " 3.在本地仓库中建立一个与远程仓库的别名，一边之后提交代码而不是每次都要输入远程仓库地址。指令结尾是git的仓库地址"
   ]
  },
  {
   "cell_type": "raw",
   "metadata": {},
   "source": [
    "git remote add origin https://github.com/mora-lab/mora-lab.github.io.git"
   ]
  },
  {
   "cell_type": "markdown",
   "metadata": {},
   "source": [
    "4.将本地的代码提交的远程仓库上"
   ]
  },
  {
   "cell_type": "markdown",
   "metadata": {},
   "source": [
    "（1）首先要建立本地分支，并切换到该分支上（本地建立完分支，默认是在master分支上）"
   ]
  },
  {
   "cell_type": "raw",
   "metadata": {},
   "source": [
    "git branch fix_picture_branch\n",
    "git checkout fix_picture_branch"
   ]
  },
  {
   "cell_type": "markdown",
   "metadata": {},
   "source": [
    "（2）push到远程仓库上面"
   ]
  },
  {
   "cell_type": "raw",
   "metadata": {},
   "source": [
    "git push origin fix_picture_branch"
   ]
  },
  {
   "cell_type": "markdown",
   "metadata": {},
   "source": [
    "#这里的含义是将fix_picture_branch这个分支提交到远程仓库上面。如果远程仓库没有这个分支，那么也会新建一个该分支。"
   ]
  },
  {
   "cell_type": "markdown",
   "metadata": {},
   "source": [
    "# 第二种方法将本地分支提交到远程仓库的master上"
   ]
  },
  {
   "cell_type": "markdown",
   "metadata": {},
   "source": [
    "还有一种方法可以指定提交到远程仓库的某个分支上。是将fix_picture_branch分支提交到远程仓库的master上面"
   ]
  },
  {
   "cell_type": "raw",
   "metadata": {},
   "source": [
    "git push origin fix_picture_branch:master"
   ]
  },
  {
   "cell_type": "markdown",
   "metadata": {},
   "source": [
    "# 将远程仓库的master与本地分支合并"
   ]
  },
  {
   "cell_type": "markdown",
   "metadata": {},
   "source": [
    "如果本地当前是在fix_picture_branch分支，此时想把远程仓库的master与fix_picture_branch分支合并（merge）,使用下面的命令："
   ]
  },
  {
   "cell_type": "raw",
   "metadata": {},
   "source": [
    "git pull orgin fix_picture_branch:master"
   ]
  },
  {
   "cell_type": "markdown",
   "metadata": {},
   "source": [
    "# 将远程仓库的master下载并在本地仓库创建"
   ]
  },
  {
   "cell_type": "markdown",
   "metadata": {},
   "source": [
    "如果您使用如下指令，含义就是将远程仓库的master分支合并下来。如果本地没有master分支，那么本地就新建一个master分支"
   ]
  },
  {
   "cell_type": "raw",
   "metadata": {},
   "source": [
    "git pull master"
   ]
  }
 ],
 "metadata": {
  "kernelspec": {
   "display_name": "Python 3",
   "language": "python",
   "name": "python3"
  },
  "language_info": {
   "codemirror_mode": {
    "name": "ipython",
    "version": 3
   },
   "file_extension": ".py",
   "mimetype": "text/x-python",
   "name": "python",
   "nbconvert_exporter": "python",
   "pygments_lexer": "ipython3",
   "version": "3.7.0"
  }
 },
 "nbformat": 4,
 "nbformat_minor": 2
}
