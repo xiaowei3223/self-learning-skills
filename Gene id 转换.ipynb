{
 "cells": [
  {
   "cell_type": "markdown",
   "metadata": {},
   "source": [
    "# 第一种方法"
   ]
  },
  {
   "cell_type": "markdown",
   "metadata": {},
   "source": [
    "安装clusterProfiler包，bitr转换ID函数属于这个包"
   ]
  },
  {
   "cell_type": "code",
   "execution_count": 1,
   "metadata": {},
   "outputs": [
    {
     "name": "stderr",
     "output_type": "stream",
     "text": [
      "Bioconductor version 3.7 (BiocInstaller 1.30.0), ?biocLite for help\n",
      "A newer version of Bioconductor is available for this version of R,\n",
      "  ?BiocUpgrade for help\n"
     ]
    }
   ],
   "source": [
    "source(\"http://bioconductor.org/biocLite.R\")\n",
    "options(BioC_mirror=\"http://mirrors.ustc.edu.cn/bioc/\")\n",
    "#biocLite(\"clusterProfiler\")"
   ]
  },
  {
   "cell_type": "code",
   "execution_count": 2,
   "metadata": {
    "collapsed": true
   },
   "outputs": [
    {
     "name": "stderr",
     "output_type": "stream",
     "text": [
      "Your code contains a unicode char which cannot be displayed in your\n",
      "current locale and R will silently convert it to an escaped form when the\n",
      "R kernel executes this code. This can lead to subtle errors if you use\n",
      "such chars to do comparisons. For more information, please see\n",
      "https://github.com/IRkernel/repr/wiki/Problems-with-unicode-on-windows\n",
      "clusterProfiler v3.8.1  For help: https://guangchuangyu.github.io/software/clusterProfiler\n",
      "\n",
      "If you use clusterProfiler in published research, please cite:\n",
      "Guangchuang Yu, Li-Gen Wang, Yanyan Han, Qing-Yu He. clusterProfiler: an R package for comparing biological themes among gene clusters. OMICS: A Journal of Integrative Biology. 2012, 16(5):284-287.\n",
      "Loading required package: AnnotationDbi\n",
      "Loading required package: stats4\n",
      "Loading required package: BiocGenerics\n",
      "Loading required package: parallel\n",
      "\n",
      "Attaching package: 'BiocGenerics'\n",
      "\n",
      "The following objects are masked from 'package:parallel':\n",
      "\n",
      "    clusterApply, clusterApplyLB, clusterCall, clusterEvalQ,\n",
      "    clusterExport, clusterMap, parApply, parCapply, parLapply,\n",
      "    parLapplyLB, parRapply, parSapply, parSapplyLB\n",
      "\n",
      "The following objects are masked from 'package:stats':\n",
      "\n",
      "    IQR, mad, sd, var, xtabs\n",
      "\n",
      "The following objects are masked from 'package:base':\n",
      "\n",
      "    anyDuplicated, append, as.data.frame, basename, cbind, colMeans,\n",
      "    colnames, colSums, dirname, do.call, duplicated, eval, evalq,\n",
      "    Filter, Find, get, grep, grepl, intersect, is.unsorted, lapply,\n",
      "    lengths, Map, mapply, match, mget, order, paste, pmax, pmax.int,\n",
      "    pmin, pmin.int, Position, rank, rbind, Reduce, rowMeans, rownames,\n",
      "    rowSums, sapply, setdiff, sort, table, tapply, union, unique,\n",
      "    unsplit, which, which.max, which.min\n",
      "\n",
      "Loading required package: Biobase\n",
      "Welcome to Bioconductor\n",
      "\n",
      "    Vignettes contain introductory material; view with\n",
      "    'browseVignettes()'. To cite Bioconductor, see\n",
      "    'citation(\"Biobase\")', and for packages 'citation(\"pkgname\")'.\n",
      "\n",
      "Loading required package: IRanges\n",
      "Loading required package: S4Vectors\n",
      "\n",
      "Attaching package: 'S4Vectors'\n",
      "\n",
      "The following object is masked from 'package:base':\n",
      "\n",
      "    expand.grid\n",
      "\n",
      "\n",
      "Attaching package: 'IRanges'\n",
      "\n",
      "The following object is masked from 'package:grDevices':\n",
      "\n",
      "    windows\n",
      "\n",
      "\n"
     ]
    }
   ],
   "source": [
    "library(\"clusterProfiler\")\n",
    "library(org.Hs.eg.db)#这个是属于注释包，每个基因集可能对应的注释包不一样，要从基因集所在的平台找到对应的注释包，然后从bioconductor获取安装。"
   ]
  },
  {
   "cell_type": "markdown",
   "metadata": {},
   "source": [
    "#### 基因集准备"
   ]
  },
  {
   "cell_type": "code",
   "execution_count": 3,
   "metadata": {},
   "outputs": [
    {
     "data": {
      "text/html": [
       "<ol class=list-inline>\n",
       "\t<li>'4312'</li>\n",
       "\t<li>'8318'</li>\n",
       "\t<li>'10874'</li>\n",
       "\t<li>'55143'</li>\n",
       "\t<li>'55388'</li>\n",
       "\t<li>'991'</li>\n",
       "</ol>\n"
      ],
      "text/latex": [
       "\\begin{enumerate*}\n",
       "\\item '4312'\n",
       "\\item '8318'\n",
       "\\item '10874'\n",
       "\\item '55143'\n",
       "\\item '55388'\n",
       "\\item '991'\n",
       "\\end{enumerate*}\n"
      ],
      "text/markdown": [
       "1. '4312'\n",
       "2. '8318'\n",
       "3. '10874'\n",
       "4. '55143'\n",
       "5. '55388'\n",
       "6. '991'\n",
       "\n",
       "\n"
      ],
      "text/plain": [
       "[1] \"4312\"  \"8318\"  \"10874\" \"55143\" \"55388\" \"991\"  "
      ]
     },
     "metadata": {},
     "output_type": "display_data"
    }
   ],
   "source": [
    "data(geneList, package=\"DOSE\")\n",
    "gene <- names(geneList)[abs(geneList) > 2]\n",
    "head(gene)"
   ]
  },
  {
   "cell_type": "markdown",
   "metadata": {},
   "source": [
    "#### ID转换"
   ]
  },
  {
   "cell_type": "code",
   "execution_count": 4,
   "metadata": {},
   "outputs": [
    {
     "name": "stderr",
     "output_type": "stream",
     "text": [
      "'select()' returned 1:many mapping between keys and columns\n"
     ]
    },
    {
     "data": {
      "text/html": [
       "<table>\n",
       "<thead><tr><th scope=col>ENTREZID</th><th scope=col>ENSEMBL</th><th scope=col>SYMBOL</th></tr></thead>\n",
       "<tbody>\n",
       "\t<tr><td>4312           </td><td>ENSG00000196611</td><td>MMP1           </td></tr>\n",
       "\t<tr><td>8318           </td><td>ENSG00000093009</td><td>CDC45          </td></tr>\n",
       "\t<tr><td>10874          </td><td>ENSG00000109255</td><td>NMU            </td></tr>\n",
       "\t<tr><td>55143          </td><td>ENSG00000134690</td><td>CDCA8          </td></tr>\n",
       "\t<tr><td>55388          </td><td>ENSG00000065328</td><td>MCM10          </td></tr>\n",
       "\t<tr><td>991            </td><td>ENSG00000117399</td><td>CDC20          </td></tr>\n",
       "</tbody>\n",
       "</table>\n"
      ],
      "text/latex": [
       "\\begin{tabular}{r|lll}\n",
       " ENTREZID & ENSEMBL & SYMBOL\\\\\n",
       "\\hline\n",
       "\t 4312            & ENSG00000196611 & MMP1           \\\\\n",
       "\t 8318            & ENSG00000093009 & CDC45          \\\\\n",
       "\t 10874           & ENSG00000109255 & NMU            \\\\\n",
       "\t 55143           & ENSG00000134690 & CDCA8          \\\\\n",
       "\t 55388           & ENSG00000065328 & MCM10          \\\\\n",
       "\t 991             & ENSG00000117399 & CDC20          \\\\\n",
       "\\end{tabular}\n"
      ],
      "text/markdown": [
       "\n",
       "| ENTREZID | ENSEMBL | SYMBOL |\n",
       "|---|---|---|\n",
       "| 4312            | ENSG00000196611 | MMP1            |\n",
       "| 8318            | ENSG00000093009 | CDC45           |\n",
       "| 10874           | ENSG00000109255 | NMU             |\n",
       "| 55143           | ENSG00000134690 | CDCA8           |\n",
       "| 55388           | ENSG00000065328 | MCM10           |\n",
       "| 991             | ENSG00000117399 | CDC20           |\n",
       "\n"
      ],
      "text/plain": [
       "  ENTREZID ENSEMBL         SYMBOL\n",
       "1 4312     ENSG00000196611 MMP1  \n",
       "2 8318     ENSG00000093009 CDC45 \n",
       "3 10874    ENSG00000109255 NMU   \n",
       "4 55143    ENSG00000134690 CDCA8 \n",
       "5 55388    ENSG00000065328 MCM10 \n",
       "6 991      ENSG00000117399 CDC20 "
      ]
     },
     "metadata": {},
     "output_type": "display_data"
    }
   ],
   "source": [
    "gene.df <- bitr(gene, fromType = \"ENTREZID\", #fromType是指你的数据ID类型是属于哪一类的\n",
    "                toType = c(\"ENSEMBL\", \"SYMBOL\"), #toType是指你要转换成哪种ID类型，可以写多种，也可以只写一种\n",
    "                OrgDb = org.Hs.eg.db)#Orgdb是指对应的注释包是哪个\n",
    "head(gene.df)"
   ]
  },
  {
   "cell_type": "markdown",
   "metadata": {},
   "source": [
    "# 第二种方法"
   ]
  },
  {
   "cell_type": "code",
   "execution_count": 6,
   "metadata": {
    "scrolled": true
   },
   "outputs": [
    {
     "data": {
      "text/html": [
       "<dl>\n",
       "\t<dt>$`4312`</dt>\n",
       "\t\t<dd>'MMP1'</dd>\n",
       "\t<dt>$`8318`</dt>\n",
       "\t\t<dd>'CDC45'</dd>\n",
       "\t<dt>$`10874`</dt>\n",
       "\t\t<dd>'NMU'</dd>\n",
       "\t<dt>$`55143`</dt>\n",
       "\t\t<dd>'CDCA8'</dd>\n",
       "\t<dt>$`55388`</dt>\n",
       "\t\t<dd>'MCM10'</dd>\n",
       "\t<dt>$`991`</dt>\n",
       "\t\t<dd>'CDC20'</dd>\n",
       "</dl>\n"
      ],
      "text/latex": [
       "\\begin{description}\n",
       "\\item[\\$`4312`] 'MMP1'\n",
       "\\item[\\$`8318`] 'CDC45'\n",
       "\\item[\\$`10874`] 'NMU'\n",
       "\\item[\\$`55143`] 'CDCA8'\n",
       "\\item[\\$`55388`] 'MCM10'\n",
       "\\item[\\$`991`] 'CDC20'\n",
       "\\end{description}\n"
      ],
      "text/markdown": [
       "$`4312`\n",
       ":   'MMP1'\n",
       "$`8318`\n",
       ":   'CDC45'\n",
       "$`10874`\n",
       ":   'NMU'\n",
       "$`55143`\n",
       ":   'CDCA8'\n",
       "$`55388`\n",
       ":   'MCM10'\n",
       "$`991`\n",
       ":   'CDC20'\n",
       "\n",
       "\n"
      ],
      "text/plain": [
       "$`4312`\n",
       "[1] \"MMP1\"\n",
       "\n",
       "$`8318`\n",
       "[1] \"CDC45\"\n",
       "\n",
       "$`10874`\n",
       "[1] \"NMU\"\n",
       "\n",
       "$`55143`\n",
       "[1] \"CDCA8\"\n",
       "\n",
       "$`55388`\n",
       "[1] \"MCM10\"\n",
       "\n",
       "$`991`\n",
       "[1] \"CDC20\"\n"
      ]
     },
     "metadata": {},
     "output_type": "display_data"
    },
    {
     "data": {
      "text/html": [
       "'list'"
      ],
      "text/latex": [
       "'list'"
      ],
      "text/markdown": [
       "'list'"
      ],
      "text/plain": [
       "[1] \"list\""
      ]
     },
     "metadata": {},
     "output_type": "display_data"
    }
   ],
   "source": [
    "library(AnnotationDbi)\n",
    "mySymbols <- mget(gene,\n",
    "                  org.Hs.egSYMBOL, #这个是可以选择的，选择不同，转换的ID类型也不一样\n",
    "                  ifnotfound=NA)\n",
    "转换成Symbol ID\n",
    "head(mySymbols)\n",
    "class(mySymbols)"
   ]
  },
  {
   "cell_type": "markdown",
   "metadata": {},
   "source": [
    "# 第三种方法"
   ]
  },
  {
   "cell_type": "code",
   "execution_count": 8,
   "metadata": {},
   "outputs": [
    {
     "name": "stderr",
     "output_type": "stream",
     "text": [
      "Your code contains a unicode char which cannot be displayed in your\n",
      "current locale and R will silently convert it to an escaped form when the\n",
      "R kernel executes this code. This can lead to subtle errors if you use\n",
      "such chars to do comparisons. For more information, please see\n",
      "https://github.com/IRkernel/repr/wiki/Problems-with-unicode-on-windows'select()' returned 1:many mapping between keys and columns\n"
     ]
    },
    {
     "data": {
      "text/html": [
       "<table>\n",
       "<thead><tr><th scope=col>ENTREZID</th><th scope=col>SYMBOL</th><th scope=col>ENSEMBL</th><th scope=col>GENENAME</th></tr></thead>\n",
       "<tbody>\n",
       "\t<tr><td>4312                                                       </td><td>MMP1                                                       </td><td>ENSG00000196611                                            </td><td>matrix metallopeptidase 1                                  </td></tr>\n",
       "\t<tr><td>8318                                                       </td><td>CDC45                                                      </td><td>ENSG00000093009                                            </td><td>cell division cycle 45                                     </td></tr>\n",
       "\t<tr><td>10874                                                      </td><td>NMU                                                        </td><td>ENSG00000109255                                            </td><td>neuromedin U                                               </td></tr>\n",
       "\t<tr><td>55143                                                      </td><td>CDCA8                                                      </td><td>ENSG00000134690                                            </td><td>cell division cycle associated 8                           </td></tr>\n",
       "\t<tr><td>55388                                                      </td><td>MCM10                                                      </td><td>ENSG00000065328                                            </td><td>minichromosome maintenance 10 replication initiation factor</td></tr>\n",
       "\t<tr><td>991                                                        </td><td>CDC20                                                      </td><td>ENSG00000117399                                            </td><td>cell division cycle 20                                     </td></tr>\n",
       "</tbody>\n",
       "</table>\n"
      ],
      "text/latex": [
       "\\begin{tabular}{r|llll}\n",
       " ENTREZID & SYMBOL & ENSEMBL & GENENAME\\\\\n",
       "\\hline\n",
       "\t 4312                                                        & MMP1                                                        & ENSG00000196611                                             & matrix metallopeptidase 1                                  \\\\\n",
       "\t 8318                                                        & CDC45                                                       & ENSG00000093009                                             & cell division cycle 45                                     \\\\\n",
       "\t 10874                                                       & NMU                                                         & ENSG00000109255                                             & neuromedin U                                               \\\\\n",
       "\t 55143                                                       & CDCA8                                                       & ENSG00000134690                                             & cell division cycle associated 8                           \\\\\n",
       "\t 55388                                                       & MCM10                                                       & ENSG00000065328                                             & minichromosome maintenance 10 replication initiation factor\\\\\n",
       "\t 991                                                         & CDC20                                                       & ENSG00000117399                                             & cell division cycle 20                                     \\\\\n",
       "\\end{tabular}\n"
      ],
      "text/markdown": [
       "\n",
       "| ENTREZID | SYMBOL | ENSEMBL | GENENAME |\n",
       "|---|---|---|---|\n",
       "| 4312                                                        | MMP1                                                        | ENSG00000196611                                             | matrix metallopeptidase 1                                   |\n",
       "| 8318                                                        | CDC45                                                       | ENSG00000093009                                             | cell division cycle 45                                      |\n",
       "| 10874                                                       | NMU                                                         | ENSG00000109255                                             | neuromedin U                                                |\n",
       "| 55143                                                       | CDCA8                                                       | ENSG00000134690                                             | cell division cycle associated 8                            |\n",
       "| 55388                                                       | MCM10                                                       | ENSG00000065328                                             | minichromosome maintenance 10 replication initiation factor |\n",
       "| 991                                                         | CDC20                                                       | ENSG00000117399                                             | cell division cycle 20                                      |\n",
       "\n"
      ],
      "text/plain": [
       "  ENTREZID SYMBOL ENSEMBL        \n",
       "1 4312     MMP1   ENSG00000196611\n",
       "2 8318     CDC45  ENSG00000093009\n",
       "3 10874    NMU    ENSG00000109255\n",
       "4 55143    CDCA8  ENSG00000134690\n",
       "5 55388    MCM10  ENSG00000065328\n",
       "6 991      CDC20  ENSG00000117399\n",
       "  GENENAME                                                   \n",
       "1 matrix metallopeptidase 1                                  \n",
       "2 cell division cycle 45                                     \n",
       "3 neuromedin U                                               \n",
       "4 cell division cycle associated 8                           \n",
       "5 minichromosome maintenance 10 replication initiation factor\n",
       "6 cell division cycle 20                                     "
      ]
     },
     "metadata": {},
     "output_type": "display_data"
    }
   ],
   "source": [
    "geneIDselect <-select(org.Hs.eg.db, #.db是这个芯片数据对应的注释包\n",
    "                      keys=gene,\n",
    "                      columns=c(\"SYMBOL\",\"ENSEMBL\",\"GENENAME\"), #clolumns参数是你要转换的ID类型是什么，这里选择三个。\n",
    "                      keytype=\"ENTREZID\" )#函数里面的keytype与keys参数是对应的，keys是你输入的那些数据，keytype是指这些数据是属于什么类型的数据。 \n",
    "head(geneIDselect)"
   ]
  },
  {
   "cell_type": "code",
   "execution_count": null,
   "metadata": {},
   "outputs": [],
   "source": []
  },
  {
   "cell_type": "code",
   "execution_count": 12,
   "metadata": {},
   "outputs": [
    {
     "name": "stderr",
     "output_type": "stream",
     "text": [
      "Bioconductor version 3.7 (BiocInstaller 1.30.0), ?biocLite for help\n",
      "A newer version of Bioconductor is available for this version of R,\n",
      "  ?BiocUpgrade for help\n",
      "BioC_mirror: http://mirrors.ustc.edu.cn/bioc/\n",
      "Using Bioconductor 3.7 (BiocInstaller 1.30.0), R 3.5.1 (2018-07-02).\n",
      "Installing package(s) 'visjs'\n",
      "Warning message:\n",
      "\"package 'visjs' is not available (for R version 3.5.1)\"installation path not writeable, unable to update packages: class, cluster,\n",
      "  codetools, foreign, lattice, MASS, Matrix, mgcv, nlme, rpart, survival\n"
     ]
    }
   ],
   "source": [
    "source(\"http://bioconductor.org/biocLite.R\")\n",
    "options(BioC_mirror=\"http://mirrors.ustc.edu.cn/bioc/\")\n",
    "\n",
    "biocLite(\"visjs\")"
   ]
  },
  {
   "cell_type": "code",
   "execution_count": null,
   "metadata": {},
   "outputs": [],
   "source": []
  }
 ],
 "metadata": {
  "kernelspec": {
   "display_name": "R",
   "language": "R",
   "name": "ir"
  },
  "language_info": {
   "codemirror_mode": "r",
   "file_extension": ".r",
   "mimetype": "text/x-r-source",
   "name": "R",
   "pygments_lexer": "r",
   "version": "3.5.1"
  }
 },
 "nbformat": 4,
 "nbformat_minor": 2
}
